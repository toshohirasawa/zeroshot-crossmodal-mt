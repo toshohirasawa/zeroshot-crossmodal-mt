{
 "cells": [
  {
   "cell_type": "code",
   "execution_count": 1,
   "id": "1a7de571-9a6f-4b0c-92b8-c9e5025eb3fc",
   "metadata": {},
   "outputs": [],
   "source": [
    "import sys, os\n",
    "import glob, re\n",
    "from nltk.translate.bleu_score import sentence_bleu\n",
    "from nltk.translate.meteor_score import meteor_score\n",
    "import langdetect\n",
    "from tqdm import tqdm_notebook"
   ]
  },
  {
   "cell_type": "code",
   "execution_count": 2,
   "id": "155b40e2-7238-4594-ba87-9a15a8cbae67",
   "metadata": {},
   "outputs": [],
   "source": [
    "lang_pair = 'en-cs_fr'\n",
    "split2splitname = {\n",
    "    'test': 'test_2016_flickr',\n",
    "    'test1': 'test_2017_flickr',\n",
    "    'test2': 'test_2017_mscoco',\n",
    "    'test3': 'test_2018_flickr',\n",
    "}"
   ]
  },
  {
   "cell_type": "code",
   "execution_count": 3,
   "id": "0fab247c-6e74-4d40-8e33-18a90bd000b3",
   "metadata": {
    "scrolled": true
   },
   "outputs": [
    {
     "data": {
      "text/plain": [
       "({'test': './../data/en-cs_fr/tok/test_2016_flickr.en-fr.en',\n",
       "  'test1': './../data/en-cs_fr/tok/test_2017_flickr.en-fr.en',\n",
       "  'test2': './../data/en-cs_fr/tok/test_2017_mscoco.en-fr.en',\n",
       "  'test3': './../data/en-cs_fr/tok/test_2018_flickr.en-fr.en'},\n",
       " {'test': './../data/en-cs_fr/tok/test_2016_flickr.en-fr.fr',\n",
       "  'test1': './../data/en-cs_fr/tok/test_2017_flickr.en-fr.fr',\n",
       "  'test2': './../data/en-cs_fr/tok/test_2017_mscoco.en-fr.fr',\n",
       "  'test3': './../data/en-cs_fr/tok/test_2018_flickr.en-fr.fr'},\n",
       " {'test': './../data/en-cs_fr/image_splits/test_2016_flickr.en-fr.txt',\n",
       "  'test1': './../data/en-cs_fr/image_splits/test_2017_flickr.en-fr.txt',\n",
       "  'test2': './../data/en-cs_fr/image_splits/test_2017_mscoco.en-fr.txt',\n",
       "  'test3': './../data/en-cs_fr/image_splits/test_2018_flickr.en-fr.txt'})"
      ]
     },
     "execution_count": 3,
     "metadata": {},
     "output_type": "execute_result"
    }
   ],
   "source": [
    "text_ckpt = f'./../checkpoint/full/{lang_pair}/vanilla/transformer_tiny/'\n",
    "imag_ckpt = f'./../checkpoint/zero-shot/{lang_pair}/detr_resnet-50-dc5/imagination-lvp_static/'\n",
    "\n",
    "src_files = {\n",
    "    k: v for k, v in \n",
    "    [(k, f'./../data/{lang_pair}/tok/{v}.en-fr.en') for k, v in split2splitname.items()]\n",
    "    if os.path.exists(v)\n",
    "}\n",
    "\n",
    "ref_files = {\n",
    "    k: v for k, v in \n",
    "    [(k, f'./../data/{lang_pair}/tok/{v}.en-fr.fr') for k, v in split2splitname.items()]\n",
    "    if os.path.exists(v)\n",
    "}\n",
    "\n",
    "img_files = {\n",
    "    k: v for k, v in \n",
    "    [(k, f'./../data/{lang_pair}/image_splits/{v}.en-fr.txt') for k, v in split2splitname.items()]\n",
    "    if os.path.exists(v)\n",
    "}\n",
    "\n",
    "src_files, ref_files, img_files"
   ]
  },
  {
   "cell_type": "code",
   "execution_count": 4,
   "id": "c217940f-eb48-4c1d-bfe9-18973e80edcd",
   "metadata": {},
   "outputs": [
    {
     "data": {
      "text/plain": [
       "(21,\n",
       " 39,\n",
       " ['./../checkpoint/zero-shot/en-cs_fr/detr_resnet-50-dc5/imagination-lvp_static/1442/valid.en-fr.fr.hyp',\n",
       "  './../checkpoint/zero-shot/en-cs_fr/detr_resnet-50-dc5/imagination-lvp_static/1442/test.en-fr.fr.hyp',\n",
       "  './../checkpoint/zero-shot/en-cs_fr/detr_resnet-50-dc5/imagination-lvp_static/1442/test1.en-fr.fr.hyp',\n",
       "  './../checkpoint/zero-shot/en-cs_fr/detr_resnet-50-dc5/imagination-lvp_static/1442/test2.en-fr.fr.hyp',\n",
       "  './../checkpoint/zero-shot/en-cs_fr/detr_resnet-50-dc5/imagination-lvp_static/1442/test3.en-fr.fr.hyp',\n",
       "  './../checkpoint/zero-shot/en-cs_fr/detr_resnet-50-dc5/imagination-lvp_static/1442/test4.en-fr.fr.hyp',\n",
       "  './../checkpoint/zero-shot/en-cs_fr/detr_resnet-50-dc5/imagination-lvp_static/1442/test5.en-fr.fr.hyp',\n",
       "  './../checkpoint/zero-shot/en-cs_fr/detr_resnet-50-dc5/imagination-lvp_static/1442/test-replace_all.en-fr.fr.hyp',\n",
       "  './../checkpoint/zero-shot/en-cs_fr/detr_resnet-50-dc5/imagination-lvp_static/1442/test1-replace_all.en-fr.fr.hyp',\n",
       "  './../checkpoint/zero-shot/en-cs_fr/detr_resnet-50-dc5/imagination-lvp_static/1442/test2-replace_all.en-fr.fr.hyp',\n",
       "  './../checkpoint/zero-shot/en-cs_fr/detr_resnet-50-dc5/imagination-lvp_static/1442/test3-replace_all.en-fr.fr.hyp',\n",
       "  './../checkpoint/zero-shot/en-cs_fr/detr_resnet-50-dc5/imagination-lvp_static/1442/test4-replace_all.en-fr.fr.hyp',\n",
       "  './../checkpoint/zero-shot/en-cs_fr/detr_resnet-50-dc5/imagination-lvp_static/1442/test5-replace_all.en-fr.fr.hyp',\n",
       "  './../checkpoint/zero-shot/en-cs_fr/detr_resnet-50-dc5/imagination-lvp_static/32095/valid.en-fr.fr.hyp',\n",
       "  './../checkpoint/zero-shot/en-cs_fr/detr_resnet-50-dc5/imagination-lvp_static/32095/test.en-fr.fr.hyp',\n",
       "  './../checkpoint/zero-shot/en-cs_fr/detr_resnet-50-dc5/imagination-lvp_static/32095/test1.en-fr.fr.hyp',\n",
       "  './../checkpoint/zero-shot/en-cs_fr/detr_resnet-50-dc5/imagination-lvp_static/32095/test3.en-fr.fr.hyp',\n",
       "  './../checkpoint/zero-shot/en-cs_fr/detr_resnet-50-dc5/imagination-lvp_static/32095/test5.en-fr.fr.hyp',\n",
       "  './../checkpoint/zero-shot/en-cs_fr/detr_resnet-50-dc5/imagination-lvp_static/32095/test2.en-fr.fr.hyp',\n",
       "  './../checkpoint/zero-shot/en-cs_fr/detr_resnet-50-dc5/imagination-lvp_static/32095/test4.en-fr.fr.hyp',\n",
       "  './../checkpoint/zero-shot/en-cs_fr/detr_resnet-50-dc5/imagination-lvp_static/32095/test-replace_all.en-fr.fr.hyp',\n",
       "  './../checkpoint/zero-shot/en-cs_fr/detr_resnet-50-dc5/imagination-lvp_static/32095/test1-replace_all.en-fr.fr.hyp',\n",
       "  './../checkpoint/zero-shot/en-cs_fr/detr_resnet-50-dc5/imagination-lvp_static/32095/test2-replace_all.en-fr.fr.hyp',\n",
       "  './../checkpoint/zero-shot/en-cs_fr/detr_resnet-50-dc5/imagination-lvp_static/32095/test3-replace_all.en-fr.fr.hyp',\n",
       "  './../checkpoint/zero-shot/en-cs_fr/detr_resnet-50-dc5/imagination-lvp_static/32095/test4-replace_all.en-fr.fr.hyp',\n",
       "  './../checkpoint/zero-shot/en-cs_fr/detr_resnet-50-dc5/imagination-lvp_static/32095/test5-replace_all.en-fr.fr.hyp',\n",
       "  './../checkpoint/zero-shot/en-cs_fr/detr_resnet-50-dc5/imagination-lvp_static/11201/valid.en-fr.fr.hyp',\n",
       "  './../checkpoint/zero-shot/en-cs_fr/detr_resnet-50-dc5/imagination-lvp_static/11201/test.en-fr.fr.hyp',\n",
       "  './../checkpoint/zero-shot/en-cs_fr/detr_resnet-50-dc5/imagination-lvp_static/11201/test1.en-fr.fr.hyp',\n",
       "  './../checkpoint/zero-shot/en-cs_fr/detr_resnet-50-dc5/imagination-lvp_static/11201/test3.en-fr.fr.hyp',\n",
       "  './../checkpoint/zero-shot/en-cs_fr/detr_resnet-50-dc5/imagination-lvp_static/11201/test5.en-fr.fr.hyp',\n",
       "  './../checkpoint/zero-shot/en-cs_fr/detr_resnet-50-dc5/imagination-lvp_static/11201/test2.en-fr.fr.hyp',\n",
       "  './../checkpoint/zero-shot/en-cs_fr/detr_resnet-50-dc5/imagination-lvp_static/11201/test4.en-fr.fr.hyp',\n",
       "  './../checkpoint/zero-shot/en-cs_fr/detr_resnet-50-dc5/imagination-lvp_static/11201/test-replace_all.en-fr.fr.hyp',\n",
       "  './../checkpoint/zero-shot/en-cs_fr/detr_resnet-50-dc5/imagination-lvp_static/11201/test1-replace_all.en-fr.fr.hyp',\n",
       "  './../checkpoint/zero-shot/en-cs_fr/detr_resnet-50-dc5/imagination-lvp_static/11201/test2-replace_all.en-fr.fr.hyp',\n",
       "  './../checkpoint/zero-shot/en-cs_fr/detr_resnet-50-dc5/imagination-lvp_static/11201/test3-replace_all.en-fr.fr.hyp',\n",
       "  './../checkpoint/zero-shot/en-cs_fr/detr_resnet-50-dc5/imagination-lvp_static/11201/test4-replace_all.en-fr.fr.hyp',\n",
       "  './../checkpoint/zero-shot/en-cs_fr/detr_resnet-50-dc5/imagination-lvp_static/11201/test5-replace_all.en-fr.fr.hyp'])"
      ]
     },
     "execution_count": 4,
     "metadata": {},
     "output_type": "execute_result"
    }
   ],
   "source": [
    "text_hyp_files = list(glob.glob(text_ckpt + '*/*.en-fr.fr.hyp', recursive=True))\n",
    "imag_hyp_files = [fn for fn in glob.glob(imag_ckpt + '*/*.en-fr.fr.hyp', recursive=True) if ('incongruent' not in fn and 'replaced_all' not in fn)]\n",
    "\n",
    "len(text_hyp_files), len(imag_hyp_files), imag_hyp_files"
   ]
  },
  {
   "cell_type": "code",
   "execution_count": 5,
   "id": "ea314b01-302a-4002-a80a-6c6b8d85e6ae",
   "metadata": {},
   "outputs": [
    {
     "data": {
      "text/plain": [
       "['un groupe d&apos; hommes chargent du coton sur un camion .',\n",
       " 'un homme dormant dans une pièce verte sur un canapé .',\n",
       " 'un garçon portant des écouteurs est assis sur les épaules d&apos; une femme .',\n",
       " 'deux hommes installant une hutte de pêche bleue sur un lac .',\n",
       " 'un homme dégarni vêtu d&apos; un gilet de sauvetage rouge est assis dans un petit bateau .']"
      ]
     },
     "execution_count": 5,
     "metadata": {},
     "output_type": "execute_result"
    }
   ],
   "source": [
    "re_index = re.compile('H-(\\d+)')\n",
    "def load_hyp(fn):\n",
    "    def is_hyp(s):\n",
    "        return s.startswith('H')\n",
    "    \n",
    "    def find_hyp(s):\n",
    "        index = re_index.findall(s)[0]\n",
    "        hyp = s.strip().split('\\t')[2]\n",
    "        return int(index), hyp\n",
    "    \n",
    "    def sort_hyp(l):\n",
    "        return [i[1] for i in sorted(l, key=lambda _: _[0])]\n",
    "    \n",
    "    return sort_hyp([find_hyp(s) for s in open(fn, 'r') if is_hyp(s)])\n",
    "\n",
    "load_hyp(imag_hyp_files[0])[:5]"
   ]
  },
  {
   "cell_type": "code",
   "execution_count": 6,
   "id": "1b72b513-f78f-4554-b303-bace810c95e1",
   "metadata": {},
   "outputs": [
    {
     "data": {
      "text/plain": [
       "['un homme avec un chapeau orange regardant quelque chose .',\n",
       " 'un terrier de boston court sur l&apos; herbe verdoyante devant une clôture blanche .',\n",
       " 'une fille en tenue de karaté brisant un bâton avec un coup de pied .',\n",
       " 'cinq personnes avec des vestes d&apos; hiver et des casques sont debout dans la neige , avec des motoneiges en arrière-plan .',\n",
       " 'des gens réparent le toit d&apos; une maison .']"
      ]
     },
     "execution_count": 6,
     "metadata": {},
     "output_type": "execute_result"
    }
   ],
   "source": [
    "def load_ref(fn):\n",
    "    return [l.strip() for l in open(fn, 'r')]\n",
    "\n",
    "load_ref(ref_files['test'])[:5]"
   ]
  },
  {
   "cell_type": "code",
   "execution_count": 7,
   "id": "faa52560-2d07-4563-a91e-0c8d5a01b354",
   "metadata": {},
   "outputs": [
    {
     "name": "stderr",
     "output_type": "stream",
     "text": [
      "/home/tosho/.pyenv/versions/anaconda3-2022.05/envs/fairseq4mm/lib/python3.9/site-packages/nltk/translate/bleu_score.py:552: UserWarning: \n",
      "The hypothesis contains 0 counts of 4-gram overlaps.\n",
      "Therefore the BLEU score evaluates to 0, independently of\n",
      "how many N-gram overlaps of lower order it contains.\n",
      "Consider using lower n-gram order or use SmoothingFunction()\n",
      "  warnings.warn(_msg)\n"
     ]
    },
    {
     "data": {
      "text/plain": [
       "[(0.28763290795903784,\n",
       "  'un homme avec un chapeau orange regardant quelque chose .',\n",
       "  'un groupe d&apos; hommes chargent du coton sur un camion .'),\n",
       " (0.21401098385318648,\n",
       "  'un terrier de boston court sur l&apos; herbe verdoyante devant une clôture blanche .',\n",
       "  'un homme dormant dans une pièce verte sur un canapé .'),\n",
       " (0.189767906043468,\n",
       "  'une fille en tenue de karaté brisant un bâton avec un coup de pied .',\n",
       "  'un garçon portant des écouteurs est assis sur les épaules d&apos; une femme .'),\n",
       " (1.7349120493717766e-78,\n",
       "  'cinq personnes avec des vestes d&apos; hiver et des casques sont debout dans la neige , avec des motoneiges en arrière-plan .',\n",
       "  'deux hommes installant une hutte de pêche bleue sur un lac .'),\n",
       " (0.2119035164974129,\n",
       "  'des gens réparent le toit d&apos; une maison .',\n",
       "  'un homme dégarni vêtu d&apos; un gilet de sauvetage rouge est assis dans un petit bateau .')]"
      ]
     },
     "execution_count": 7,
     "metadata": {},
     "output_type": "execute_result"
    }
   ],
   "source": [
    "def compute_sent_bleu(ref, hyp):\n",
    "    return [\n",
    "        (sentence_bleu([r], h), r, h) for r, h in zip(ref, hyp)\n",
    "    ]\n",
    "\n",
    "compute_sent_bleu(load_ref(ref_files['test'])[:5], load_hyp(imag_hyp_files[0])[:5])"
   ]
  },
  {
   "cell_type": "code",
   "execution_count": 8,
   "id": "4cb8b498-1daf-4e80-960e-aaf904bfd382",
   "metadata": {},
   "outputs": [],
   "source": [
    "def load_all_hyps(hyps):\n",
    "    hyp_dict = {} # split -> seed -> hyp\n",
    "    \n",
    "    def get_split(fn):\n",
    "        return fn.split('/')[-1].split('.')[0]\n",
    "    def get_seed(fn):\n",
    "        return fn.split('/')[-2]\n",
    "    \n",
    "    for hyp in hyps:\n",
    "        split = get_split(hyp)\n",
    "        seed = get_seed(hyp)\n",
    "        \n",
    "        if split not in hyp_dict:\n",
    "            hyp_dict[split] = {}\n",
    "        \n",
    "        hyp_dict[split][seed] = load_hyp(hyp)\n",
    "        \n",
    "    return hyp_dict\n",
    "\n",
    "text_hyps = load_all_hyps(text_hyp_files)\n",
    "imag_hyps = load_all_hyps(imag_hyp_files)"
   ]
  },
  {
   "cell_type": "code",
   "execution_count": 9,
   "id": "5d8cb4f3-598e-4060-8aa0-23bd7a7fd485",
   "metadata": {},
   "outputs": [],
   "source": [
    "def load_all_ref(ref_files):\n",
    "    return {\n",
    "        split: load_ref(fn)\n",
    "        for split, fn in ref_files.items()\n",
    "    }\n",
    "\n",
    "srcs = load_all_ref(src_files)\n",
    "refs = load_all_ref(ref_files)\n",
    "imgs = load_all_ref(img_files)"
   ]
  },
  {
   "cell_type": "code",
   "execution_count": 10,
   "id": "da5f53c7-2d27-4d14-9882-9a43691db192",
   "metadata": {},
   "outputs": [
    {
     "name": "stderr",
     "output_type": "stream",
     "text": [
      "/tmp/ipykernel_3576554/1348394971.py:7: TqdmDeprecationWarning: This function will be removed in tqdm==5.0.0\n",
      "Please use `tqdm.notebook.tqdm` instead of `tqdm.tqdm_notebook`\n",
      "  for i, (src, ref, img, hyp) in tqdm_notebook(enumerate(zip(srcs[split], refs[split], images[split], hyps[split][seed]))):\n"
     ]
    },
    {
     "data": {
      "application/vnd.jupyter.widget-view+json": {
       "model_id": "471ea1a136cf4f1bbb956deea50ef98a",
       "version_major": 2,
       "version_minor": 0
      },
      "text/plain": [
       "0it [00:00, ?it/s]"
      ]
     },
     "metadata": {},
     "output_type": "display_data"
    },
    {
     "data": {
      "application/vnd.jupyter.widget-view+json": {
       "model_id": "93c90a7e05bc48249179eecdd3bc4520",
       "version_major": 2,
       "version_minor": 0
      },
      "text/plain": [
       "0it [00:00, ?it/s]"
      ]
     },
     "metadata": {},
     "output_type": "display_data"
    },
    {
     "data": {
      "application/vnd.jupyter.widget-view+json": {
       "model_id": "4ec9b0735de541679d3cbc677837ccfb",
       "version_major": 2,
       "version_minor": 0
      },
      "text/plain": [
       "0it [00:00, ?it/s]"
      ]
     },
     "metadata": {},
     "output_type": "display_data"
    },
    {
     "data": {
      "application/vnd.jupyter.widget-view+json": {
       "model_id": "d5204e40c1964ce6a73c2f8efde10239",
       "version_major": 2,
       "version_minor": 0
      },
      "text/plain": [
       "0it [00:00, ?it/s]"
      ]
     },
     "metadata": {},
     "output_type": "display_data"
    },
    {
     "data": {
      "application/vnd.jupyter.widget-view+json": {
       "model_id": "c1721c8a952841d698950304830c08ca",
       "version_major": 2,
       "version_minor": 0
      },
      "text/plain": [
       "0it [00:00, ?it/s]"
      ]
     },
     "metadata": {},
     "output_type": "display_data"
    },
    {
     "data": {
      "application/vnd.jupyter.widget-view+json": {
       "model_id": "e77e992eb43c4d2686eb34894a111bef",
       "version_major": 2,
       "version_minor": 0
      },
      "text/plain": [
       "0it [00:00, ?it/s]"
      ]
     },
     "metadata": {},
     "output_type": "display_data"
    },
    {
     "data": {
      "application/vnd.jupyter.widget-view+json": {
       "model_id": "f783d21cc2af4ff587bc3c605463a166",
       "version_major": 2,
       "version_minor": 0
      },
      "text/plain": [
       "0it [00:00, ?it/s]"
      ]
     },
     "metadata": {},
     "output_type": "display_data"
    },
    {
     "data": {
      "application/vnd.jupyter.widget-view+json": {
       "model_id": "0394c4723f6e4ae494ccebe7b11169f1",
       "version_major": 2,
       "version_minor": 0
      },
      "text/plain": [
       "0it [00:00, ?it/s]"
      ]
     },
     "metadata": {},
     "output_type": "display_data"
    },
    {
     "data": {
      "application/vnd.jupyter.widget-view+json": {
       "model_id": "7e77205924b44e3796e07e68256ccb01",
       "version_major": 2,
       "version_minor": 0
      },
      "text/plain": [
       "0it [00:00, ?it/s]"
      ]
     },
     "metadata": {},
     "output_type": "display_data"
    },
    {
     "data": {
      "application/vnd.jupyter.widget-view+json": {
       "model_id": "a6f76e6fe0f8447e87cf33020a5573bb",
       "version_major": 2,
       "version_minor": 0
      },
      "text/plain": [
       "0it [00:00, ?it/s]"
      ]
     },
     "metadata": {},
     "output_type": "display_data"
    },
    {
     "data": {
      "application/vnd.jupyter.widget-view+json": {
       "model_id": "402229e20cbc49fa9f42255c110c6791",
       "version_major": 2,
       "version_minor": 0
      },
      "text/plain": [
       "0it [00:00, ?it/s]"
      ]
     },
     "metadata": {},
     "output_type": "display_data"
    },
    {
     "data": {
      "application/vnd.jupyter.widget-view+json": {
       "model_id": "21eb25f2d3fc4df9923556a104e6f210",
       "version_major": 2,
       "version_minor": 0
      },
      "text/plain": [
       "0it [00:00, ?it/s]"
      ]
     },
     "metadata": {},
     "output_type": "display_data"
    },
    {
     "data": {
      "application/vnd.jupyter.widget-view+json": {
       "model_id": "dbb2dd5ea6214277ab3f581dc69adcaa",
       "version_major": 2,
       "version_minor": 0
      },
      "text/plain": [
       "0it [00:00, ?it/s]"
      ]
     },
     "metadata": {},
     "output_type": "display_data"
    },
    {
     "data": {
      "application/vnd.jupyter.widget-view+json": {
       "model_id": "efbec2d462194207ba505189658fe46e",
       "version_major": 2,
       "version_minor": 0
      },
      "text/plain": [
       "0it [00:00, ?it/s]"
      ]
     },
     "metadata": {},
     "output_type": "display_data"
    },
    {
     "data": {
      "application/vnd.jupyter.widget-view+json": {
       "model_id": "43fbca2a27e14059a72c16ec978692ee",
       "version_major": 2,
       "version_minor": 0
      },
      "text/plain": [
       "0it [00:00, ?it/s]"
      ]
     },
     "metadata": {},
     "output_type": "display_data"
    },
    {
     "data": {
      "application/vnd.jupyter.widget-view+json": {
       "model_id": "b8f4d4f27a7549c28eb27790433275ad",
       "version_major": 2,
       "version_minor": 0
      },
      "text/plain": [
       "0it [00:00, ?it/s]"
      ]
     },
     "metadata": {},
     "output_type": "display_data"
    },
    {
     "data": {
      "application/vnd.jupyter.widget-view+json": {
       "model_id": "6efa316d2a6040db8c70120cf36bcd57",
       "version_major": 2,
       "version_minor": 0
      },
      "text/plain": [
       "0it [00:00, ?it/s]"
      ]
     },
     "metadata": {},
     "output_type": "display_data"
    },
    {
     "data": {
      "application/vnd.jupyter.widget-view+json": {
       "model_id": "400b70a31058497c96ff9246d0702094",
       "version_major": 2,
       "version_minor": 0
      },
      "text/plain": [
       "0it [00:00, ?it/s]"
      ]
     },
     "metadata": {},
     "output_type": "display_data"
    },
    {
     "data": {
      "application/vnd.jupyter.widget-view+json": {
       "model_id": "161131acf02045019b0c8e8e5fea5575",
       "version_major": 2,
       "version_minor": 0
      },
      "text/plain": [
       "0it [00:00, ?it/s]"
      ]
     },
     "metadata": {},
     "output_type": "display_data"
    },
    {
     "data": {
      "application/vnd.jupyter.widget-view+json": {
       "model_id": "fa727d8d6c734add82983978c9617d84",
       "version_major": 2,
       "version_minor": 0
      },
      "text/plain": [
       "0it [00:00, ?it/s]"
      ]
     },
     "metadata": {},
     "output_type": "display_data"
    },
    {
     "data": {
      "application/vnd.jupyter.widget-view+json": {
       "model_id": "b2db1497f55e4a11b4ca9d3f68579151",
       "version_major": 2,
       "version_minor": 0
      },
      "text/plain": [
       "0it [00:00, ?it/s]"
      ]
     },
     "metadata": {},
     "output_type": "display_data"
    },
    {
     "data": {
      "application/vnd.jupyter.widget-view+json": {
       "model_id": "6b680abe020044948eb5da771da21241",
       "version_major": 2,
       "version_minor": 0
      },
      "text/plain": [
       "0it [00:00, ?it/s]"
      ]
     },
     "metadata": {},
     "output_type": "display_data"
    },
    {
     "data": {
      "application/vnd.jupyter.widget-view+json": {
       "model_id": "e9132a3b4c374582b1b0f400cea7e721",
       "version_major": 2,
       "version_minor": 0
      },
      "text/plain": [
       "0it [00:00, ?it/s]"
      ]
     },
     "metadata": {},
     "output_type": "display_data"
    },
    {
     "data": {
      "application/vnd.jupyter.widget-view+json": {
       "model_id": "8337947ce3844989a6266d443dbb1402",
       "version_major": 2,
       "version_minor": 0
      },
      "text/plain": [
       "0it [00:00, ?it/s]"
      ]
     },
     "metadata": {},
     "output_type": "display_data"
    }
   ],
   "source": [
    "def disp_scores(key, hyps, srcs, refs, images, fp=None):\n",
    "    for split in hyps.keys():\n",
    "        if split not in refs:\n",
    "            continue\n",
    "\n",
    "        for seed in hyps[split].keys():\n",
    "            for i, (src, ref, img, hyp) in tqdm_notebook(enumerate(zip(srcs[split], refs[split], images[split], hyps[split][seed]))):\n",
    "                print('\\t'.join(map(str, [\n",
    "                    key,\n",
    "                    split2splitname[split],\n",
    "                    seed,\n",
    "                    i + 1,\n",
    "                    img,\n",
    "                    src,\n",
    "                    ref,\n",
    "                    hyp,\n",
    "                    sentence_bleu([ref], hyp)*100,\n",
    "                    meteor_score([ref.split()], hyp.split())*100,\n",
    "                    langdetect.detect(hyp),\n",
    "                ])), file=fp)\n",
    "\n",
    "# with open(f'./../sent_results-{lang_pair}.txt', 'w') as fp:\n",
    "#     disp_scores('text-only', text_hyps, srcs, refs, imgs, fp=fp)\n",
    "#     disp_scores('imagination', imag_hyps, srcs, refs, imgs, fp=fp)"
   ]
  },
  {
   "cell_type": "code",
   "execution_count": null,
   "id": "6de044a1-bdbd-460f-8c16-24a82caf9645",
   "metadata": {},
   "outputs": [],
   "source": []
  }
 ],
 "metadata": {
  "kernelspec": {
   "display_name": "Python 3 (ipykernel)",
   "language": "python",
   "name": "python3"
  },
  "language_info": {
   "codemirror_mode": {
    "name": "ipython",
    "version": 3
   },
   "file_extension": ".py",
   "mimetype": "text/x-python",
   "name": "python",
   "nbconvert_exporter": "python",
   "pygments_lexer": "ipython3",
   "version": "3.9.16"
  }
 },
 "nbformat": 4,
 "nbformat_minor": 5
}
